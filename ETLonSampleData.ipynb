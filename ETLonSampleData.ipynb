{
 "cells": [
  {
   "cell_type": "code",
   "execution_count": 1,
   "metadata": {},
   "outputs": [
    {
     "name": "stdout",
     "output_type": "stream",
     "text": [
      "Starting Spark application\n"
     ]
    },
    {
     "data": {
      "text/html": [
       "<table>\n",
       "<tr><th>ID</th><th>YARN Application ID</th><th>Kind</th><th>State</th><th>Spark UI</th><th>Driver log</th><th>Current session?</th></tr><tr><td>2</td><td>application_1753851124424_0003</td><td>pyspark</td><td>idle</td><td><a target=\"_blank\" href=\"http://ip-172-31-54-66.ec2.internal:20888/proxy/application_1753851124424_0003/\">Link</a></td><td><a target=\"_blank\" href=\"http://ip-172-31-54-76.ec2.internal:8042/node/containerlogs/container_1753851124424_0003_01_000001/livy\">Link</a></td><td>✔</td></tr></table>"
      ],
      "text/plain": [
       "<IPython.core.display.HTML object>"
      ]
     },
     "metadata": {},
     "output_type": "display_data"
    },
    {
     "data": {
      "application/vnd.jupyter.widget-view+json": {
       "model_id": "",
       "version_major": 2,
       "version_minor": 0
      },
      "text/plain": [
       "FloatProgress(value=0.0, bar_style='info', description='Progress:', layout=Layout(height='25px', width='50%'),…"
      ]
     },
     "metadata": {},
     "output_type": "display_data"
    },
    {
     "name": "stdout",
     "output_type": "stream",
     "text": [
      "SparkSession available as 'spark'.\n"
     ]
    },
    {
     "data": {
      "application/vnd.jupyter.widget-view+json": {
       "model_id": "",
       "version_major": 2,
       "version_minor": 0
      },
      "text/plain": [
       "FloatProgress(value=0.0, bar_style='info', description='Progress:', layout=Layout(height='25px', width='50%'),…"
      ]
     },
     "metadata": {},
     "output_type": "display_data"
    }
   ],
   "source": [
    "from pyspark.sql import SparkSession\n",
    "from pyspark.sql.functions import lit"
   ]
  },
  {
   "cell_type": "code",
   "execution_count": 2,
   "metadata": {},
   "outputs": [
    {
     "data": {
      "application/vnd.jupyter.widget-view+json": {
       "model_id": "",
       "version_major": 2,
       "version_minor": 0
      },
      "text/plain": [
       "FloatProgress(value=0.0, bar_style='info', description='Progress:', layout=Layout(height='25px', width='50%'),…"
      ]
     },
     "metadata": {},
     "output_type": "display_data"
    }
   ],
   "source": [
    "# Start Spark Session\n",
    "spark = SparkSession.builder.appName(\"MergeNYCData\").getOrCreate()"
   ]
  },
  {
   "cell_type": "code",
   "execution_count": 5,
   "metadata": {},
   "outputs": [
    {
     "data": {
      "application/vnd.jupyter.widget-view+json": {
       "model_id": "",
       "version_major": 2,
       "version_minor": 0
      },
      "text/plain": [
       "FloatProgress(value=0.0, bar_style='info', description='Progress:', layout=Layout(height='25px', width='50%'),…"
      ]
     },
     "metadata": {},
     "output_type": "display_data"
    },
    {
     "name": "stdout",
     "output_type": "stream",
     "text": [
      "+------------------+---------------+-----+----------+-----------+------------+------------+-------+-------------+------------+--------+--------------------+---------------------+---------------------+------------+----------+------------+----+\n",
      "|store_and_fwd_flag|passenger_count|extra|tip_amount|fare_amount|total_amount|DOLocationID|mta_tax|trip_distance|PULocationID|VendorID|tpep_pickup_datetime|tpep_dropoff_datetime|improvement_surcharge|payment_type|RatecodeID|tolls_amount|year|\n",
      "+------------------+---------------+-----+----------+-----------+------------+------------+-------+-------------+------------+--------+--------------------+---------------------+---------------------+------------+----------+------------+----+\n",
      "|                 N|            1.0|  0.5|       0.0|       10.5|        11.8|          79|    0.5|         1.76|          68|       2| 2016-01-01 00:38:14|  2016-01-01 00:52:44|                  0.3|           2|       1.0|         0.0|2016|\n",
      "|                 N|            2.0|  0.5|      2.06|        9.0|       12.36|          90|    0.5|          1.8|         211|       2| 2016-01-01 00:16:05|  2016-01-01 00:25:36|                  0.3|           1|       1.0|         0.0|2016|\n",
      "|                 N|            1.0|  0.5|      1.06|        4.0|        6.36|         234|    0.5|         0.35|         234|       2| 2016-01-01 00:19:00|  2016-01-01 00:22:41|                  0.3|           1|       1.0|         0.0|2016|\n",
      "|                 N|            1.0|  0.5|       0.0|        2.5|         3.8|          90|    0.5|         0.04|          90|       2| 2016-01-01 00:42:25|  2016-01-01 00:42:47|                  0.3|           2|       1.0|         0.0|2016|\n",
      "|                 N|            1.0|  0.5|       0.0|        8.5|         9.8|         158|    0.5|          1.5|         125|       1| 2016-01-01 00:51:52|  2016-01-01 01:02:37|                  0.3|           2|       1.0|         0.0|2016|\n",
      "+------------------+---------------+-----+----------+-----------+------------+------------+-------+-------------+------------+--------+--------------------+---------------------+---------------------+------------+----------+------------+----+\n",
      "only showing top 5 rows"
     ]
    }
   ],
   "source": [
    "clean_sample_df= spark.read.parquet(\"s3://nycfinalp/part-00000-664c0e47-18b2-4b29-9fbc-51eaed404954-c000.snappy.parquet\")\n",
    "clean_sample_df.show(5)"
   ]
  },
  {
   "cell_type": "code",
   "execution_count": 6,
   "metadata": {},
   "outputs": [
    {
     "data": {
      "application/vnd.jupyter.widget-view+json": {
       "model_id": "",
       "version_major": 2,
       "version_minor": 0
      },
      "text/plain": [
       "FloatProgress(value=0.0, bar_style='info', description='Progress:', layout=Layout(height='25px', width='50%'),…"
      ]
     },
     "metadata": {},
     "output_type": "display_data"
    },
    {
     "name": "stdout",
     "output_type": "stream",
     "text": [
      "Row count: 992925\n",
      "Column count: 18"
     ]
    }
   ],
   "source": [
    "# Row count\n",
    "row_count = clean_sample_df.count()\n",
    "\n",
    "# Column count\n",
    "column_count = len(clean_sample_df.columns)\n",
    "\n",
    "print(f\"Row count: {row_count}\")\n",
    "print(f\"Column count: {column_count}\")\n"
   ]
  },
  {
   "cell_type": "code",
   "execution_count": 7,
   "metadata": {},
   "outputs": [
    {
     "data": {
      "application/vnd.jupyter.widget-view+json": {
       "model_id": "",
       "version_major": 2,
       "version_minor": 0
      },
      "text/plain": [
       "FloatProgress(value=0.0, bar_style='info', description='Progress:', layout=Layout(height='25px', width='50%'),…"
      ]
     },
     "metadata": {},
     "output_type": "display_data"
    }
   ],
   "source": [
    "from pyspark.sql import SparkSession\n",
    "\n",
    "# Create Spark session (skip if already created)\n",
    "spark = SparkSession.builder.appName(\"TaxiZoneLookup\").getOrCreate()\n",
    "\n",
    "# Path to the zone lookup file in S3\n",
    "zone_lookup_path = \"s3://nycfinalp/taxi_zone_lookup.csv\"\n",
    "\n",
    "# Read the CSV file from S3\n",
    "zone_df = spark.read.option(\"header\", True).csv(zone_lookup_path)\n",
    "\n",
    "# Create renamed DataFrames for joining\n",
    "pickup_zone_df = zone_df.withColumnRenamed(\"LocationID\", \"PULocationID\") \\\n",
    "                        .withColumnRenamed(\"Zone\", \"pickup_zone\")\n",
    "\n",
    "dropoff_zone_df = zone_df.withColumnRenamed(\"LocationID\", \"DOLocationID\") \\\n",
    "                         .withColumnRenamed(\"Zone\", \"dropoff_zone\")\n"
   ]
  },
  {
   "cell_type": "code",
   "execution_count": 8,
   "metadata": {},
   "outputs": [
    {
     "data": {
      "application/vnd.jupyter.widget-view+json": {
       "model_id": "",
       "version_major": 2,
       "version_minor": 0
      },
      "text/plain": [
       "FloatProgress(value=0.0, bar_style='info', description='Progress:', layout=Layout(height='25px', width='50%'),…"
      ]
     },
     "metadata": {},
     "output_type": "display_data"
    },
    {
     "name": "stdout",
     "output_type": "stream",
     "text": [
      "+------------------+---------------+-----+----------+-----------+------------+------------+-------+-------------+------------+--------+--------------------+---------------------+---------------------+------------+----------+------------+----+\n",
      "|store_and_fwd_flag|passenger_count|extra|tip_amount|fare_amount|total_amount|DOLocationID|mta_tax|trip_distance|PULocationID|VendorID|tpep_pickup_datetime|tpep_dropoff_datetime|improvement_surcharge|payment_type|RatecodeID|tolls_amount|year|\n",
      "+------------------+---------------+-----+----------+-----------+------------+------------+-------+-------------+------------+--------+--------------------+---------------------+---------------------+------------+----------+------------+----+\n",
      "|                 N|            1.0|  0.5|       0.0|       10.5|        11.8|          79|    0.5|         1.76|          68|       2| 2016-01-01 00:38:14|  2016-01-01 00:52:44|                  0.3|           2|       1.0|         0.0|2016|\n",
      "|                 N|            2.0|  0.5|      2.06|        9.0|       12.36|          90|    0.5|          1.8|         211|       2| 2016-01-01 00:16:05|  2016-01-01 00:25:36|                  0.3|           1|       1.0|         0.0|2016|\n",
      "|                 N|            1.0|  0.5|      1.06|        4.0|        6.36|         234|    0.5|         0.35|         234|       2| 2016-01-01 00:19:00|  2016-01-01 00:22:41|                  0.3|           1|       1.0|         0.0|2016|\n",
      "|                 N|            1.0|  0.5|       0.0|        2.5|         3.8|          90|    0.5|         0.04|          90|       2| 2016-01-01 00:42:25|  2016-01-01 00:42:47|                  0.3|           2|       1.0|         0.0|2016|\n",
      "|                 N|            1.0|  0.5|       0.0|        8.5|         9.8|         158|    0.5|          1.5|         125|       1| 2016-01-01 00:51:52|  2016-01-01 01:02:37|                  0.3|           2|       1.0|         0.0|2016|\n",
      "+------------------+---------------+-----+----------+-----------+------------+------------+-------+-------------+------------+--------+--------------------+---------------------+---------------------+------------+----------+------------+----+\n",
      "only showing top 5 rows"
     ]
    }
   ],
   "source": [
    "clean_sample_df.show(5)"
   ]
  },
  {
   "cell_type": "code",
   "execution_count": 10,
   "metadata": {},
   "outputs": [
    {
     "data": {
      "application/vnd.jupyter.widget-view+json": {
       "model_id": "",
       "version_major": 2,
       "version_minor": 0
      },
      "text/plain": [
       "FloatProgress(value=0.0, bar_style='info', description='Progress:', layout=Layout(height='25px', width='50%'),…"
      ]
     },
     "metadata": {},
     "output_type": "display_data"
    }
   ],
   "source": [
    "sample_with_zones = clean_sample_df \\\n",
    "    .join(pickup_zone_df, on=\"PULocationID\", how=\"left\") \\\n",
    "    .join(dropoff_zone_df, on=\"DOLocationID\", how=\"left\")\n"
   ]
  },
  {
   "cell_type": "code",
   "execution_count": 11,
   "metadata": {},
   "outputs": [
    {
     "data": {
      "application/vnd.jupyter.widget-view+json": {
       "model_id": "",
       "version_major": 2,
       "version_minor": 0
      },
      "text/plain": [
       "FloatProgress(value=0.0, bar_style='info', description='Progress:', layout=Layout(height='25px', width='50%'),…"
      ]
     },
     "metadata": {},
     "output_type": "display_data"
    },
    {
     "name": "stdout",
     "output_type": "stream",
     "text": [
      "+------------------+---------------+-----+----------+-----------+------------+------------+-------+-------------+------------+--------+--------------------+---------------------+---------------------+------------+----------+------------+----+\n",
      "|store_and_fwd_flag|passenger_count|extra|tip_amount|fare_amount|total_amount|DOLocationID|mta_tax|trip_distance|PULocationID|VendorID|tpep_pickup_datetime|tpep_dropoff_datetime|improvement_surcharge|payment_type|RatecodeID|tolls_amount|year|\n",
      "+------------------+---------------+-----+----------+-----------+------------+------------+-------+-------------+------------+--------+--------------------+---------------------+---------------------+------------+----------+------------+----+\n",
      "|                 N|            1.0|  0.5|       0.0|       10.5|        11.8|          79|    0.5|         1.76|          68|       2| 2016-01-01 00:38:14|  2016-01-01 00:52:44|                  0.3|           2|       1.0|         0.0|2016|\n",
      "|                 N|            2.0|  0.5|      2.06|        9.0|       12.36|          90|    0.5|          1.8|         211|       2| 2016-01-01 00:16:05|  2016-01-01 00:25:36|                  0.3|           1|       1.0|         0.0|2016|\n",
      "|                 N|            1.0|  0.5|      1.06|        4.0|        6.36|         234|    0.5|         0.35|         234|       2| 2016-01-01 00:19:00|  2016-01-01 00:22:41|                  0.3|           1|       1.0|         0.0|2016|\n",
      "|                 N|            1.0|  0.5|       0.0|        2.5|         3.8|          90|    0.5|         0.04|          90|       2| 2016-01-01 00:42:25|  2016-01-01 00:42:47|                  0.3|           2|       1.0|         0.0|2016|\n",
      "|                 N|            1.0|  0.5|       0.0|        8.5|         9.8|         158|    0.5|          1.5|         125|       1| 2016-01-01 00:51:52|  2016-01-01 01:02:37|                  0.3|           2|       1.0|         0.0|2016|\n",
      "+------------------+---------------+-----+----------+-----------+------------+------------+-------+-------------+------------+--------+--------------------+---------------------+---------------------+------------+----------+------------+----+\n",
      "only showing top 5 rows"
     ]
    }
   ],
   "source": [
    "clean_sample_df.show(5)"
   ]
  },
  {
   "cell_type": "code",
   "execution_count": 12,
   "metadata": {},
   "outputs": [
    {
     "data": {
      "application/vnd.jupyter.widget-view+json": {
       "model_id": "",
       "version_major": 2,
       "version_minor": 0
      },
      "text/plain": [
       "FloatProgress(value=0.0, bar_style='info', description='Progress:', layout=Layout(height='25px', width='50%'),…"
      ]
     },
     "metadata": {},
     "output_type": "display_data"
    },
    {
     "name": "stdout",
     "output_type": "stream",
     "text": [
      "+------------+-------------+-----------------------+------------+\n",
      "|PULocationID|Borough      |pickup_zone            |service_zone|\n",
      "+------------+-------------+-----------------------+------------+\n",
      "|1           |EWR          |Newark Airport         |EWR         |\n",
      "|2           |Queens       |Jamaica Bay            |Boro Zone   |\n",
      "|3           |Bronx        |Allerton/Pelham Gardens|Boro Zone   |\n",
      "|4           |Manhattan    |Alphabet City          |Yellow Zone |\n",
      "|5           |Staten Island|Arden Heights          |Boro Zone   |\n",
      "|6           |Staten Island|Arrochar/Fort Wadsworth|Boro Zone   |\n",
      "|7           |Queens       |Astoria                |Boro Zone   |\n",
      "|8           |Queens       |Astoria Park           |Boro Zone   |\n",
      "|9           |Queens       |Auburndale             |Boro Zone   |\n",
      "|10          |Queens       |Baisley Park           |Boro Zone   |\n",
      "+------------+-------------+-----------------------+------------+\n",
      "only showing top 10 rows"
     ]
    }
   ],
   "source": [
    "pickup_zone_df.show(10, truncate=False)"
   ]
  },
  {
   "cell_type": "code",
   "execution_count": 13,
   "metadata": {},
   "outputs": [
    {
     "data": {
      "application/vnd.jupyter.widget-view+json": {
       "model_id": "",
       "version_major": 2,
       "version_minor": 0
      },
      "text/plain": [
       "FloatProgress(value=0.0, bar_style='info', description='Progress:', layout=Layout(height='25px', width='50%'),…"
      ]
     },
     "metadata": {},
     "output_type": "display_data"
    },
    {
     "name": "stdout",
     "output_type": "stream",
     "text": [
      "+------------+------------+------------------+---------------+-----+----------+-----------+------------+-------+-------------+--------+--------------------+---------------------+---------------------+------------+----------+------------+----+---------+------------+------------+---------+--------------------+------------+\n",
      "|DOLocationID|PULocationID|store_and_fwd_flag|passenger_count|extra|tip_amount|fare_amount|total_amount|mta_tax|trip_distance|VendorID|tpep_pickup_datetime|tpep_dropoff_datetime|improvement_surcharge|payment_type|RatecodeID|tolls_amount|year|  Borough| pickup_zone|service_zone|  Borough|        dropoff_zone|service_zone|\n",
      "+------------+------------+------------------+---------------+-----+----------+-----------+------------+-------+-------------+--------+--------------------+---------------------+---------------------+------------+----------+------------+----+---------+------------+------------+---------+--------------------+------------+\n",
      "|          79|          68|                 N|            1.0|  0.5|       0.0|       10.5|        11.8|    0.5|         1.76|       2| 2016-01-01 00:38:14|  2016-01-01 00:52:44|                  0.3|           2|       1.0|         0.0|2016|Manhattan|East Chelsea| Yellow Zone|Manhattan|        East Village| Yellow Zone|\n",
      "|          90|         211|                 N|            2.0|  0.5|      2.06|        9.0|       12.36|    0.5|          1.8|       2| 2016-01-01 00:16:05|  2016-01-01 00:25:36|                  0.3|           1|       1.0|         0.0|2016|Manhattan|        SoHo| Yellow Zone|Manhattan|            Flatiron| Yellow Zone|\n",
      "|         234|         234|                 N|            1.0|  0.5|      1.06|        4.0|        6.36|    0.5|         0.35|       2| 2016-01-01 00:19:00|  2016-01-01 00:22:41|                  0.3|           1|       1.0|         0.0|2016|Manhattan|    Union Sq| Yellow Zone|Manhattan|            Union Sq| Yellow Zone|\n",
      "|          90|          90|                 N|            1.0|  0.5|       0.0|        2.5|         3.8|    0.5|         0.04|       2| 2016-01-01 00:42:25|  2016-01-01 00:42:47|                  0.3|           2|       1.0|         0.0|2016|Manhattan|    Flatiron| Yellow Zone|Manhattan|            Flatiron| Yellow Zone|\n",
      "|         158|         125|                 N|            1.0|  0.5|       0.0|        8.5|         9.8|    0.5|          1.5|       1| 2016-01-01 00:51:52|  2016-01-01 01:02:37|                  0.3|           2|       1.0|         0.0|2016|Manhattan|   Hudson Sq| Yellow Zone|Manhattan|Meatpacking/West ...| Yellow Zone|\n",
      "+------------+------------+------------------+---------------+-----+----------+-----------+------------+-------+-------------+--------+--------------------+---------------------+---------------------+------------+----------+------------+----+---------+------------+------------+---------+--------------------+------------+\n",
      "only showing top 5 rows"
     ]
    }
   ],
   "source": [
    "sample_with_zones.show(5)"
   ]
  },
  {
   "cell_type": "code",
   "execution_count": 14,
   "metadata": {},
   "outputs": [
    {
     "data": {
      "application/vnd.jupyter.widget-view+json": {
       "model_id": "",
       "version_major": 2,
       "version_minor": 0
      },
      "text/plain": [
       "FloatProgress(value=0.0, bar_style='info', description='Progress:', layout=Layout(height='25px', width='50%'),…"
      ]
     },
     "metadata": {},
     "output_type": "display_data"
    }
   ],
   "source": [
    "from pyspark.sql.functions import when, col\n",
    "\n",
    "sample_with_zones = sample_with_zones.withColumn(\n",
    "    \"tip_percentage\",\n",
    "    when(col(\"fare_amount\") > 0, (col(\"tip_amount\") / col(\"fare_amount\")) * 100).otherwise(0)\n",
    ")"
   ]
  },
  {
   "cell_type": "code",
   "execution_count": 15,
   "metadata": {},
   "outputs": [
    {
     "data": {
      "application/vnd.jupyter.widget-view+json": {
       "model_id": "",
       "version_major": 2,
       "version_minor": 0
      },
      "text/plain": [
       "FloatProgress(value=0.0, bar_style='info', description='Progress:', layout=Layout(height='25px', width='50%'),…"
      ]
     },
     "metadata": {},
     "output_type": "display_data"
    },
    {
     "name": "stdout",
     "output_type": "stream",
     "text": [
      "+------------+------------+------------------+---------------+-----+----------+-----------+------------+-------+-------------+--------+--------------------+---------------------+---------------------+------------+----------+------------+----+---------+---------------+------------+---------+--------------------+------------+------------------+\n",
      "|DOLocationID|PULocationID|store_and_fwd_flag|passenger_count|extra|tip_amount|fare_amount|total_amount|mta_tax|trip_distance|VendorID|tpep_pickup_datetime|tpep_dropoff_datetime|improvement_surcharge|payment_type|RatecodeID|tolls_amount|year|  Borough|    pickup_zone|service_zone|  Borough|        dropoff_zone|service_zone|    tip_percentage|\n",
      "+------------+------------+------------------+---------------+-----+----------+-----------+------------+-------+-------------+--------+--------------------+---------------------+---------------------+------------+----------+------------+----+---------+---------------+------------+---------+--------------------+------------+------------------+\n",
      "|          79|          68|                 N|            1.0|  0.5|       0.0|       10.5|        11.8|    0.5|         1.76|       2| 2016-01-01 00:38:14|  2016-01-01 00:52:44|                  0.3|           2|       1.0|         0.0|2016|Manhattan|   East Chelsea| Yellow Zone|Manhattan|        East Village| Yellow Zone|               0.0|\n",
      "|          90|         211|                 N|            2.0|  0.5|      2.06|        9.0|       12.36|    0.5|          1.8|       2| 2016-01-01 00:16:05|  2016-01-01 00:25:36|                  0.3|           1|       1.0|         0.0|2016|Manhattan|           SoHo| Yellow Zone|Manhattan|            Flatiron| Yellow Zone| 22.88888888888889|\n",
      "|         234|         234|                 N|            1.0|  0.5|      1.06|        4.0|        6.36|    0.5|         0.35|       2| 2016-01-01 00:19:00|  2016-01-01 00:22:41|                  0.3|           1|       1.0|         0.0|2016|Manhattan|       Union Sq| Yellow Zone|Manhattan|            Union Sq| Yellow Zone|              26.5|\n",
      "|          90|          90|                 N|            1.0|  0.5|       0.0|        2.5|         3.8|    0.5|         0.04|       2| 2016-01-01 00:42:25|  2016-01-01 00:42:47|                  0.3|           2|       1.0|         0.0|2016|Manhattan|       Flatiron| Yellow Zone|Manhattan|            Flatiron| Yellow Zone|               0.0|\n",
      "|         158|         125|                 N|            1.0|  0.5|       0.0|        8.5|         9.8|    0.5|          1.5|       1| 2016-01-01 00:51:52|  2016-01-01 01:02:37|                  0.3|           2|       1.0|         0.0|2016|Manhattan|      Hudson Sq| Yellow Zone|Manhattan|Meatpacking/West ...| Yellow Zone|               0.0|\n",
      "|         186|         170|                 N|            4.0|  0.5|       0.0|        7.5|         8.8|    0.5|          0.9|       1| 2016-01-01 00:22:28|  2016-01-01 00:32:08|                  0.3|           2|       1.0|         0.0|2016|Manhattan|    Murray Hill| Yellow Zone|Manhattan|Penn Station/Madi...| Yellow Zone|               0.0|\n",
      "|          68|          79|                 N|            2.0|  0.5|       0.0|        9.5|        10.8|    0.5|          1.7|       1| 2016-01-01 00:57:35|  2016-01-01 01:09:00|                  0.3|           2|       1.0|         0.0|2016|Manhattan|   East Village| Yellow Zone|Manhattan|        East Chelsea| Yellow Zone|               0.0|\n",
      "|         164|         161|                 N|            1.0|  0.5|      2.05|        9.0|       12.35|    0.5|          1.2|       1| 2016-01-01 00:55:44|  2016-01-01 01:07:55|                  0.3|           1|       1.0|         0.0|2016|Manhattan| Midtown Center| Yellow Zone|Manhattan|       Midtown South| Yellow Zone|22.777777777777775|\n",
      "|         236|         141|                 N|            5.0|  0.5|       0.7|        4.0|         6.0|    0.5|         0.65|       2| 2016-01-01 00:55:00|  2016-01-01 00:56:38|                  0.3|           1|       1.0|         0.0|2016|Manhattan|Lenox Hill West| Yellow Zone|Manhattan|Upper East Side N...| Yellow Zone|              17.5|\n",
      "|         170|         249|                 N|            1.0|  0.5|       1.0|        8.5|        10.8|    0.5|          1.6|       1| 2016-01-01 00:30:43|  2016-01-01 00:41:03|                  0.3|           1|       1.0|         0.0|2016|Manhattan|   West Village| Yellow Zone|Manhattan|         Murray Hill| Yellow Zone| 11.76470588235294|\n",
      "+------------+------------+------------------+---------------+-----+----------+-----------+------------+-------+-------------+--------+--------------------+---------------------+---------------------+------------+----------+------------+----+---------+---------------+------------+---------+--------------------+------------+------------------+\n",
      "only showing top 10 rows"
     ]
    }
   ],
   "source": [
    "sample_with_zones.show(10)"
   ]
  },
  {
   "cell_type": "code",
   "execution_count": 16,
   "metadata": {},
   "outputs": [
    {
     "data": {
      "application/vnd.jupyter.widget-view+json": {
       "model_id": "",
       "version_major": 2,
       "version_minor": 0
      },
      "text/plain": [
       "FloatProgress(value=0.0, bar_style='info', description='Progress:', layout=Layout(height='25px', width='50%'),…"
      ]
     },
     "metadata": {},
     "output_type": "display_data"
    }
   ],
   "source": [
    "cleaned_df = sample_with_zones.filter(\n",
    "    (col(\"trip_distance\") <= 100) & (col(\"fare_amount\") <= 500)\n",
    ")\n"
   ]
  },
  {
   "cell_type": "code",
   "execution_count": 17,
   "metadata": {},
   "outputs": [
    {
     "data": {
      "application/vnd.jupyter.widget-view+json": {
       "model_id": "",
       "version_major": 2,
       "version_minor": 0
      },
      "text/plain": [
       "FloatProgress(value=0.0, bar_style='info', description='Progress:', layout=Layout(height='25px', width='50%'),…"
      ]
     },
     "metadata": {},
     "output_type": "display_data"
    },
    {
     "name": "stdout",
     "output_type": "stream",
     "text": [
      "+------------+------------+------------------+---------------+-----+----------+-----------+------------+-------+-------------+--------+--------------------+---------------------+---------------------+------------+----------+------------+----+---------+---------------+------------+---------+--------------------+------------+------------------+\n",
      "|DOLocationID|PULocationID|store_and_fwd_flag|passenger_count|extra|tip_amount|fare_amount|total_amount|mta_tax|trip_distance|VendorID|tpep_pickup_datetime|tpep_dropoff_datetime|improvement_surcharge|payment_type|RatecodeID|tolls_amount|year|  Borough|    pickup_zone|service_zone|  Borough|        dropoff_zone|service_zone|    tip_percentage|\n",
      "+------------+------------+------------------+---------------+-----+----------+-----------+------------+-------+-------------+--------+--------------------+---------------------+---------------------+------------+----------+------------+----+---------+---------------+------------+---------+--------------------+------------+------------------+\n",
      "|          79|          68|                 N|            1.0|  0.5|       0.0|       10.5|        11.8|    0.5|         1.76|       2| 2016-01-01 00:38:14|  2016-01-01 00:52:44|                  0.3|           2|       1.0|         0.0|2016|Manhattan|   East Chelsea| Yellow Zone|Manhattan|        East Village| Yellow Zone|               0.0|\n",
      "|          90|         211|                 N|            2.0|  0.5|      2.06|        9.0|       12.36|    0.5|          1.8|       2| 2016-01-01 00:16:05|  2016-01-01 00:25:36|                  0.3|           1|       1.0|         0.0|2016|Manhattan|           SoHo| Yellow Zone|Manhattan|            Flatiron| Yellow Zone| 22.88888888888889|\n",
      "|         234|         234|                 N|            1.0|  0.5|      1.06|        4.0|        6.36|    0.5|         0.35|       2| 2016-01-01 00:19:00|  2016-01-01 00:22:41|                  0.3|           1|       1.0|         0.0|2016|Manhattan|       Union Sq| Yellow Zone|Manhattan|            Union Sq| Yellow Zone|              26.5|\n",
      "|          90|          90|                 N|            1.0|  0.5|       0.0|        2.5|         3.8|    0.5|         0.04|       2| 2016-01-01 00:42:25|  2016-01-01 00:42:47|                  0.3|           2|       1.0|         0.0|2016|Manhattan|       Flatiron| Yellow Zone|Manhattan|            Flatiron| Yellow Zone|               0.0|\n",
      "|         158|         125|                 N|            1.0|  0.5|       0.0|        8.5|         9.8|    0.5|          1.5|       1| 2016-01-01 00:51:52|  2016-01-01 01:02:37|                  0.3|           2|       1.0|         0.0|2016|Manhattan|      Hudson Sq| Yellow Zone|Manhattan|Meatpacking/West ...| Yellow Zone|               0.0|\n",
      "|         186|         170|                 N|            4.0|  0.5|       0.0|        7.5|         8.8|    0.5|          0.9|       1| 2016-01-01 00:22:28|  2016-01-01 00:32:08|                  0.3|           2|       1.0|         0.0|2016|Manhattan|    Murray Hill| Yellow Zone|Manhattan|Penn Station/Madi...| Yellow Zone|               0.0|\n",
      "|          68|          79|                 N|            2.0|  0.5|       0.0|        9.5|        10.8|    0.5|          1.7|       1| 2016-01-01 00:57:35|  2016-01-01 01:09:00|                  0.3|           2|       1.0|         0.0|2016|Manhattan|   East Village| Yellow Zone|Manhattan|        East Chelsea| Yellow Zone|               0.0|\n",
      "|         164|         161|                 N|            1.0|  0.5|      2.05|        9.0|       12.35|    0.5|          1.2|       1| 2016-01-01 00:55:44|  2016-01-01 01:07:55|                  0.3|           1|       1.0|         0.0|2016|Manhattan| Midtown Center| Yellow Zone|Manhattan|       Midtown South| Yellow Zone|22.777777777777775|\n",
      "|         236|         141|                 N|            5.0|  0.5|       0.7|        4.0|         6.0|    0.5|         0.65|       2| 2016-01-01 00:55:00|  2016-01-01 00:56:38|                  0.3|           1|       1.0|         0.0|2016|Manhattan|Lenox Hill West| Yellow Zone|Manhattan|Upper East Side N...| Yellow Zone|              17.5|\n",
      "|         170|         249|                 N|            1.0|  0.5|       1.0|        8.5|        10.8|    0.5|          1.6|       1| 2016-01-01 00:30:43|  2016-01-01 00:41:03|                  0.3|           1|       1.0|         0.0|2016|Manhattan|   West Village| Yellow Zone|Manhattan|         Murray Hill| Yellow Zone| 11.76470588235294|\n",
      "+------------+------------+------------------+---------------+-----+----------+-----------+------------+-------+-------------+--------+--------------------+---------------------+---------------------+------------+----------+------------+----+---------+---------------+------------+---------+--------------------+------------+------------------+\n",
      "only showing top 10 rows"
     ]
    }
   ],
   "source": [
    "cleaned_df.show(10)"
   ]
  },
  {
   "cell_type": "code",
   "execution_count": 18,
   "metadata": {},
   "outputs": [
    {
     "data": {
      "application/vnd.jupyter.widget-view+json": {
       "model_id": "",
       "version_major": 2,
       "version_minor": 0
      },
      "text/plain": [
       "FloatProgress(value=0.0, bar_style='info', description='Progress:', layout=Layout(height='25px', width='50%'),…"
      ]
     },
     "metadata": {},
     "output_type": "display_data"
    }
   ],
   "source": [
    "from pyspark.sql.functions import when\n",
    "\n",
    "bucketed_df = cleaned_df.withColumn(\n",
    "    \"distance_bucket\",\n",
    "    when(col(\"trip_distance\") < 1, \"0-1 miles\")\n",
    "    .when((col(\"trip_distance\") >= 1) & (col(\"trip_distance\") < 5), \"1-5 miles\")\n",
    "    .when((col(\"trip_distance\") >= 5) & (col(\"trip_distance\") < 10), \"5-10 miles\")\n",
    "    .otherwise(\"10+ miles\")\n",
    ")"
   ]
  },
  {
   "cell_type": "code",
   "execution_count": 19,
   "metadata": {},
   "outputs": [
    {
     "data": {
      "application/vnd.jupyter.widget-view+json": {
       "model_id": "",
       "version_major": 2,
       "version_minor": 0
      },
      "text/plain": [
       "FloatProgress(value=0.0, bar_style='info', description='Progress:', layout=Layout(height='25px', width='50%'),…"
      ]
     },
     "metadata": {},
     "output_type": "display_data"
    },
    {
     "name": "stdout",
     "output_type": "stream",
     "text": [
      "+------------+------------+------------------+---------------+-----+----------+-----------+------------+-------+-------------+--------+--------------------+---------------------+---------------------+------------+----------+------------+----+---------+------------+------------+---------+--------------------+------------+-----------------+---------------+\n",
      "|DOLocationID|PULocationID|store_and_fwd_flag|passenger_count|extra|tip_amount|fare_amount|total_amount|mta_tax|trip_distance|VendorID|tpep_pickup_datetime|tpep_dropoff_datetime|improvement_surcharge|payment_type|RatecodeID|tolls_amount|year|  Borough| pickup_zone|service_zone|  Borough|        dropoff_zone|service_zone|   tip_percentage|distance_bucket|\n",
      "+------------+------------+------------------+---------------+-----+----------+-----------+------------+-------+-------------+--------+--------------------+---------------------+---------------------+------------+----------+------------+----+---------+------------+------------+---------+--------------------+------------+-----------------+---------------+\n",
      "|          79|          68|                 N|            1.0|  0.5|       0.0|       10.5|        11.8|    0.5|         1.76|       2| 2016-01-01 00:38:14|  2016-01-01 00:52:44|                  0.3|           2|       1.0|         0.0|2016|Manhattan|East Chelsea| Yellow Zone|Manhattan|        East Village| Yellow Zone|              0.0|      1-5 miles|\n",
      "|          90|         211|                 N|            2.0|  0.5|      2.06|        9.0|       12.36|    0.5|          1.8|       2| 2016-01-01 00:16:05|  2016-01-01 00:25:36|                  0.3|           1|       1.0|         0.0|2016|Manhattan|        SoHo| Yellow Zone|Manhattan|            Flatiron| Yellow Zone|22.88888888888889|      1-5 miles|\n",
      "|         234|         234|                 N|            1.0|  0.5|      1.06|        4.0|        6.36|    0.5|         0.35|       2| 2016-01-01 00:19:00|  2016-01-01 00:22:41|                  0.3|           1|       1.0|         0.0|2016|Manhattan|    Union Sq| Yellow Zone|Manhattan|            Union Sq| Yellow Zone|             26.5|      0-1 miles|\n",
      "|          90|          90|                 N|            1.0|  0.5|       0.0|        2.5|         3.8|    0.5|         0.04|       2| 2016-01-01 00:42:25|  2016-01-01 00:42:47|                  0.3|           2|       1.0|         0.0|2016|Manhattan|    Flatiron| Yellow Zone|Manhattan|            Flatiron| Yellow Zone|              0.0|      0-1 miles|\n",
      "|         158|         125|                 N|            1.0|  0.5|       0.0|        8.5|         9.8|    0.5|          1.5|       1| 2016-01-01 00:51:52|  2016-01-01 01:02:37|                  0.3|           2|       1.0|         0.0|2016|Manhattan|   Hudson Sq| Yellow Zone|Manhattan|Meatpacking/West ...| Yellow Zone|              0.0|      1-5 miles|\n",
      "+------------+------------+------------------+---------------+-----+----------+-----------+------------+-------+-------------+--------+--------------------+---------------------+---------------------+------------+----------+------------+----+---------+------------+------------+---------+--------------------+------------+-----------------+---------------+\n",
      "only showing top 5 rows"
     ]
    }
   ],
   "source": [
    "bucketed_df.show(5)"
   ]
  },
  {
   "cell_type": "code",
   "execution_count": 20,
   "metadata": {},
   "outputs": [
    {
     "data": {
      "application/vnd.jupyter.widget-view+json": {
       "model_id": "",
       "version_major": 2,
       "version_minor": 0
      },
      "text/plain": [
       "FloatProgress(value=0.0, bar_style='info', description='Progress:', layout=Layout(height='25px', width='50%'),…"
      ]
     },
     "metadata": {},
     "output_type": "display_data"
    }
   ],
   "source": [
    "from pyspark.sql.functions import expr\n",
    "\n",
    "mapped_df = bucketed_df.withColumn(\n",
    "    \"payment_type_desc\",\n",
    "    expr(\"\"\"\n",
    "        CASE payment_type\n",
    "            WHEN 1 THEN 'Credit Card'\n",
    "            WHEN 2 THEN 'Cash'\n",
    "            WHEN 3 THEN 'No Charge'\n",
    "            WHEN 4 THEN 'Dispute'\n",
    "            WHEN 5 THEN 'Unknown'\n",
    "            WHEN 6 THEN 'Voided'\n",
    "            ELSE 'Other'\n",
    "        END\n",
    "    \"\"\")\n",
    ")\n"
   ]
  },
  {
   "cell_type": "code",
   "execution_count": 21,
   "metadata": {},
   "outputs": [
    {
     "data": {
      "application/vnd.jupyter.widget-view+json": {
       "model_id": "",
       "version_major": 2,
       "version_minor": 0
      },
      "text/plain": [
       "FloatProgress(value=0.0, bar_style='info', description='Progress:', layout=Layout(height='25px', width='50%'),…"
      ]
     },
     "metadata": {},
     "output_type": "display_data"
    },
    {
     "name": "stdout",
     "output_type": "stream",
     "text": [
      "+------------+------------+------------------+---------------+-----+----------+-----------+------------+-------+-------------+--------+--------------------+---------------------+---------------------+------------+----------+------------+----+---------+------------+------------+---------+--------------------+------------+-----------------+---------------+-----------------+\n",
      "|DOLocationID|PULocationID|store_and_fwd_flag|passenger_count|extra|tip_amount|fare_amount|total_amount|mta_tax|trip_distance|VendorID|tpep_pickup_datetime|tpep_dropoff_datetime|improvement_surcharge|payment_type|RatecodeID|tolls_amount|year|  Borough| pickup_zone|service_zone|  Borough|        dropoff_zone|service_zone|   tip_percentage|distance_bucket|payment_type_desc|\n",
      "+------------+------------+------------------+---------------+-----+----------+-----------+------------+-------+-------------+--------+--------------------+---------------------+---------------------+------------+----------+------------+----+---------+------------+------------+---------+--------------------+------------+-----------------+---------------+-----------------+\n",
      "|          79|          68|                 N|            1.0|  0.5|       0.0|       10.5|        11.8|    0.5|         1.76|       2| 2016-01-01 00:38:14|  2016-01-01 00:52:44|                  0.3|           2|       1.0|         0.0|2016|Manhattan|East Chelsea| Yellow Zone|Manhattan|        East Village| Yellow Zone|              0.0|      1-5 miles|             Cash|\n",
      "|          90|         211|                 N|            2.0|  0.5|      2.06|        9.0|       12.36|    0.5|          1.8|       2| 2016-01-01 00:16:05|  2016-01-01 00:25:36|                  0.3|           1|       1.0|         0.0|2016|Manhattan|        SoHo| Yellow Zone|Manhattan|            Flatiron| Yellow Zone|22.88888888888889|      1-5 miles|      Credit Card|\n",
      "|         234|         234|                 N|            1.0|  0.5|      1.06|        4.0|        6.36|    0.5|         0.35|       2| 2016-01-01 00:19:00|  2016-01-01 00:22:41|                  0.3|           1|       1.0|         0.0|2016|Manhattan|    Union Sq| Yellow Zone|Manhattan|            Union Sq| Yellow Zone|             26.5|      0-1 miles|      Credit Card|\n",
      "|          90|          90|                 N|            1.0|  0.5|       0.0|        2.5|         3.8|    0.5|         0.04|       2| 2016-01-01 00:42:25|  2016-01-01 00:42:47|                  0.3|           2|       1.0|         0.0|2016|Manhattan|    Flatiron| Yellow Zone|Manhattan|            Flatiron| Yellow Zone|              0.0|      0-1 miles|             Cash|\n",
      "|         158|         125|                 N|            1.0|  0.5|       0.0|        8.5|         9.8|    0.5|          1.5|       1| 2016-01-01 00:51:52|  2016-01-01 01:02:37|                  0.3|           2|       1.0|         0.0|2016|Manhattan|   Hudson Sq| Yellow Zone|Manhattan|Meatpacking/West ...| Yellow Zone|              0.0|      1-5 miles|             Cash|\n",
      "+------------+------------+------------------+---------------+-----+----------+-----------+------------+-------+-------------+--------+--------------------+---------------------+---------------------+------------+----------+------------+----+---------+------------+------------+---------+--------------------+------------+-----------------+---------------+-----------------+\n",
      "only showing top 5 rows"
     ]
    }
   ],
   "source": [
    "mapped_df.show(5)"
   ]
  },
  {
   "cell_type": "code",
   "execution_count": 22,
   "metadata": {},
   "outputs": [
    {
     "data": {
      "application/vnd.jupyter.widget-view+json": {
       "model_id": "",
       "version_major": 2,
       "version_minor": 0
      },
      "text/plain": [
       "FloatProgress(value=0.0, bar_style='info', description='Progress:', layout=Layout(height='25px', width='50%'),…"
      ]
     },
     "metadata": {},
     "output_type": "display_data"
    },
    {
     "name": "stdout",
     "output_type": "stream",
     "text": [
      "+--------+\n",
      "|VendorID|\n",
      "+--------+\n",
      "|       1|\n",
      "|       3|\n",
      "|       2|\n",
      "|       4|\n",
      "+--------+"
     ]
    }
   ],
   "source": [
    "mapped_df.select(\"VendorID\").distinct().show()"
   ]
  },
  {
   "cell_type": "code",
   "execution_count": 23,
   "metadata": {},
   "outputs": [
    {
     "data": {
      "application/vnd.jupyter.widget-view+json": {
       "model_id": "",
       "version_major": 2,
       "version_minor": 0
      },
      "text/plain": [
       "FloatProgress(value=0.0, bar_style='info', description='Progress:', layout=Layout(height='25px', width='50%'),…"
      ]
     },
     "metadata": {},
     "output_type": "display_data"
    },
    {
     "name": "stdout",
     "output_type": "stream",
     "text": [
      "+--------+\n",
      "|VendorID|\n",
      "+--------+\n",
      "|       1|\n",
      "|       3|\n",
      "|       2|\n",
      "|       4|\n",
      "+--------+"
     ]
    }
   ],
   "source": [
    "mapped_df.select(\"VendorID\").distinct().show()"
   ]
  },
  {
   "cell_type": "code",
   "execution_count": 24,
   "metadata": {},
   "outputs": [
    {
     "data": {
      "application/vnd.jupyter.widget-view+json": {
       "model_id": "",
       "version_major": 2,
       "version_minor": 0
      },
      "text/plain": [
       "FloatProgress(value=0.0, bar_style='info', description='Progress:', layout=Layout(height='25px', width='50%'),…"
      ]
     },
     "metadata": {},
     "output_type": "display_data"
    }
   ],
   "source": [
    "from pyspark.sql.functions import col\n",
    "\n",
    "clean_sample_df = mapped_df.withColumn(\"RatecodeID\", col(\"RatecodeID\").cast(\"int\"))"
   ]
  },
  {
   "cell_type": "code",
   "execution_count": 25,
   "metadata": {},
   "outputs": [
    {
     "data": {
      "application/vnd.jupyter.widget-view+json": {
       "model_id": "",
       "version_major": 2,
       "version_minor": 0
      },
      "text/plain": [
       "FloatProgress(value=0.0, bar_style='info', description='Progress:', layout=Layout(height='25px', width='50%'),…"
      ]
     },
     "metadata": {},
     "output_type": "display_data"
    },
    {
     "name": "stdout",
     "output_type": "stream",
     "text": [
      "+----------+\n",
      "|RatecodeID|\n",
      "+----------+\n",
      "|         1|\n",
      "|         2|\n",
      "|         3|\n",
      "|         4|\n",
      "|         5|\n",
      "|         6|\n",
      "|        99|\n",
      "+----------+"
     ]
    }
   ],
   "source": [
    "clean_sample_df.select(\"RatecodeID\").distinct().orderBy(\"RatecodeID\").show()"
   ]
  },
  {
   "cell_type": "code",
   "execution_count": 26,
   "metadata": {},
   "outputs": [
    {
     "data": {
      "application/vnd.jupyter.widget-view+json": {
       "model_id": "",
       "version_major": 2,
       "version_minor": 0
      },
      "text/plain": [
       "FloatProgress(value=0.0, bar_style='info', description='Progress:', layout=Layout(height='25px', width='50%'),…"
      ]
     },
     "metadata": {},
     "output_type": "display_data"
    }
   ],
   "source": [
    "from pyspark.sql.functions import when\n",
    "\n",
    "clean_sample_df = clean_sample_df.withColumn(\n",
    "    \"ratecode_desc\",\n",
    "    when(col(\"RatecodeID\") == 1, \"Standard rate\")\n",
    "    .when(col(\"RatecodeID\") == 2, \"JFK\")\n",
    "    .when(col(\"RatecodeID\") == 3, \"Newark\")\n",
    "    .when(col(\"RatecodeID\") == 4, \"Nassau or Westchester\")\n",
    "    .when(col(\"RatecodeID\") == 5, \"Negotiated fare\")\n",
    "    .when(col(\"RatecodeID\") == 6, \"Group ride\")\n",
    "    .when(col(\"RatecodeID\") == 99, \"Unknown\")\n",
    "    .otherwise(\"Other\")\n",
    ")"
   ]
  },
  {
   "cell_type": "code",
   "execution_count": 27,
   "metadata": {},
   "outputs": [
    {
     "data": {
      "application/vnd.jupyter.widget-view+json": {
       "model_id": "",
       "version_major": 2,
       "version_minor": 0
      },
      "text/plain": [
       "FloatProgress(value=0.0, bar_style='info', description='Progress:', layout=Layout(height='25px', width='50%'),…"
      ]
     },
     "metadata": {},
     "output_type": "display_data"
    },
    {
     "name": "stdout",
     "output_type": "stream",
     "text": [
      "+------------+------------+------------------+---------------+-----+----------+-----------+------------+-------+-------------+--------+--------------------+---------------------+---------------------+------------+----------+------------+----+---------+------------+------------+---------+--------------------+------------+-----------------+---------------+-----------------+-------------+\n",
      "|DOLocationID|PULocationID|store_and_fwd_flag|passenger_count|extra|tip_amount|fare_amount|total_amount|mta_tax|trip_distance|VendorID|tpep_pickup_datetime|tpep_dropoff_datetime|improvement_surcharge|payment_type|RatecodeID|tolls_amount|year|  Borough| pickup_zone|service_zone|  Borough|        dropoff_zone|service_zone|   tip_percentage|distance_bucket|payment_type_desc|ratecode_desc|\n",
      "+------------+------------+------------------+---------------+-----+----------+-----------+------------+-------+-------------+--------+--------------------+---------------------+---------------------+------------+----------+------------+----+---------+------------+------------+---------+--------------------+------------+-----------------+---------------+-----------------+-------------+\n",
      "|          79|          68|                 N|            1.0|  0.5|       0.0|       10.5|        11.8|    0.5|         1.76|       2| 2016-01-01 00:38:14|  2016-01-01 00:52:44|                  0.3|           2|         1|         0.0|2016|Manhattan|East Chelsea| Yellow Zone|Manhattan|        East Village| Yellow Zone|              0.0|      1-5 miles|             Cash|Standard rate|\n",
      "|          90|         211|                 N|            2.0|  0.5|      2.06|        9.0|       12.36|    0.5|          1.8|       2| 2016-01-01 00:16:05|  2016-01-01 00:25:36|                  0.3|           1|         1|         0.0|2016|Manhattan|        SoHo| Yellow Zone|Manhattan|            Flatiron| Yellow Zone|22.88888888888889|      1-5 miles|      Credit Card|Standard rate|\n",
      "|         234|         234|                 N|            1.0|  0.5|      1.06|        4.0|        6.36|    0.5|         0.35|       2| 2016-01-01 00:19:00|  2016-01-01 00:22:41|                  0.3|           1|         1|         0.0|2016|Manhattan|    Union Sq| Yellow Zone|Manhattan|            Union Sq| Yellow Zone|             26.5|      0-1 miles|      Credit Card|Standard rate|\n",
      "|          90|          90|                 N|            1.0|  0.5|       0.0|        2.5|         3.8|    0.5|         0.04|       2| 2016-01-01 00:42:25|  2016-01-01 00:42:47|                  0.3|           2|         1|         0.0|2016|Manhattan|    Flatiron| Yellow Zone|Manhattan|            Flatiron| Yellow Zone|              0.0|      0-1 miles|             Cash|Standard rate|\n",
      "|         158|         125|                 N|            1.0|  0.5|       0.0|        8.5|         9.8|    0.5|          1.5|       1| 2016-01-01 00:51:52|  2016-01-01 01:02:37|                  0.3|           2|         1|         0.0|2016|Manhattan|   Hudson Sq| Yellow Zone|Manhattan|Meatpacking/West ...| Yellow Zone|              0.0|      1-5 miles|             Cash|Standard rate|\n",
      "+------------+------------+------------------+---------------+-----+----------+-----------+------------+-------+-------------+--------+--------------------+---------------------+---------------------+------------+----------+------------+----+---------+------------+------------+---------+--------------------+------------+-----------------+---------------+-----------------+-------------+\n",
      "only showing top 5 rows"
     ]
    }
   ],
   "source": [
    "clean_sample_df.show(5)"
   ]
  },
  {
   "cell_type": "code",
   "execution_count": 28,
   "metadata": {},
   "outputs": [
    {
     "data": {
      "application/vnd.jupyter.widget-view+json": {
       "model_id": "",
       "version_major": 2,
       "version_minor": 0
      },
      "text/plain": [
       "FloatProgress(value=0.0, bar_style='info', description='Progress:', layout=Layout(height='25px', width='50%'),…"
      ]
     },
     "metadata": {},
     "output_type": "display_data"
    },
    {
     "name": "stdout",
     "output_type": "stream",
     "text": [
      "+--------+------+\n",
      "|VendorID| count|\n",
      "+--------+------+\n",
      "|       1|405444|\n",
      "|       2|586086|\n",
      "|       3|    12|\n",
      "|       4|  1373|\n",
      "+--------+------+"
     ]
    }
   ],
   "source": [
    "clean_sample_df.groupBy(\"VendorID\").count().orderBy(\"VendorID\").show()"
   ]
  },
  {
   "cell_type": "code",
   "execution_count": 29,
   "metadata": {},
   "outputs": [
    {
     "data": {
      "application/vnd.jupyter.widget-view+json": {
       "model_id": "",
       "version_major": 2,
       "version_minor": 0
      },
      "text/plain": [
       "FloatProgress(value=0.0, bar_style='info', description='Progress:', layout=Layout(height='25px', width='50%'),…"
      ]
     },
     "metadata": {},
     "output_type": "display_data"
    }
   ],
   "source": [
    "from pyspark.sql.functions import col\n",
    "\n",
    "# Keep only VendorID 1 and 2\n",
    "clean_sample_df = clean_sample_df.filter((col(\"VendorID\") == 1) | (col(\"VendorID\") == 2))"
   ]
  },
  {
   "cell_type": "code",
   "execution_count": 30,
   "metadata": {},
   "outputs": [
    {
     "data": {
      "application/vnd.jupyter.widget-view+json": {
       "model_id": "",
       "version_major": 2,
       "version_minor": 0
      },
      "text/plain": [
       "FloatProgress(value=0.0, bar_style='info', description='Progress:', layout=Layout(height='25px', width='50%'),…"
      ]
     },
     "metadata": {},
     "output_type": "display_data"
    },
    {
     "name": "stdout",
     "output_type": "stream",
     "text": [
      "+--------+\n",
      "|VendorID|\n",
      "+--------+\n",
      "|       1|\n",
      "|       2|\n",
      "+--------+"
     ]
    }
   ],
   "source": [
    "clean_sample_df.select(\"VendorID\").distinct().show()"
   ]
  },
  {
   "cell_type": "code",
   "execution_count": 31,
   "metadata": {},
   "outputs": [
    {
     "data": {
      "application/vnd.jupyter.widget-view+json": {
       "model_id": "",
       "version_major": 2,
       "version_minor": 0
      },
      "text/plain": [
       "FloatProgress(value=0.0, bar_style='info', description='Progress:', layout=Layout(height='25px', width='50%'),…"
      ]
     },
     "metadata": {},
     "output_type": "display_data"
    }
   ],
   "source": [
    "from pyspark.sql.functions import when, col\n",
    "\n",
    "clean_sample_df = clean_sample_df.withColumn(\n",
    "    \"vendor_desc\",\n",
    "    when(col(\"VendorID\") == 1, \"Creative Mobile Technologies, LLC\")\n",
    "    .when(col(\"VendorID\") == 2, \"Curb Mobility, LLC\")\n",
    ")"
   ]
  },
  {
   "cell_type": "code",
   "execution_count": 32,
   "metadata": {},
   "outputs": [
    {
     "data": {
      "application/vnd.jupyter.widget-view+json": {
       "model_id": "",
       "version_major": 2,
       "version_minor": 0
      },
      "text/plain": [
       "FloatProgress(value=0.0, bar_style='info', description='Progress:', layout=Layout(height='25px', width='50%'),…"
      ]
     },
     "metadata": {},
     "output_type": "display_data"
    },
    {
     "name": "stdout",
     "output_type": "stream",
     "text": [
      "+------------+------------+------------------+---------------+-----+----------+-----------+------------+-------+-------------+--------+--------------------+---------------------+---------------------+------------+----------+------------+----+---------+------------+------------+---------+--------------------+------------+-----------------+---------------+-----------------+-------------+--------------------+\n",
      "|DOLocationID|PULocationID|store_and_fwd_flag|passenger_count|extra|tip_amount|fare_amount|total_amount|mta_tax|trip_distance|VendorID|tpep_pickup_datetime|tpep_dropoff_datetime|improvement_surcharge|payment_type|RatecodeID|tolls_amount|year|  Borough| pickup_zone|service_zone|  Borough|        dropoff_zone|service_zone|   tip_percentage|distance_bucket|payment_type_desc|ratecode_desc|         vendor_desc|\n",
      "+------------+------------+------------------+---------------+-----+----------+-----------+------------+-------+-------------+--------+--------------------+---------------------+---------------------+------------+----------+------------+----+---------+------------+------------+---------+--------------------+------------+-----------------+---------------+-----------------+-------------+--------------------+\n",
      "|          79|          68|                 N|            1.0|  0.5|       0.0|       10.5|        11.8|    0.5|         1.76|       2| 2016-01-01 00:38:14|  2016-01-01 00:52:44|                  0.3|           2|         1|         0.0|2016|Manhattan|East Chelsea| Yellow Zone|Manhattan|        East Village| Yellow Zone|              0.0|      1-5 miles|             Cash|Standard rate|  Curb Mobility, LLC|\n",
      "|          90|         211|                 N|            2.0|  0.5|      2.06|        9.0|       12.36|    0.5|          1.8|       2| 2016-01-01 00:16:05|  2016-01-01 00:25:36|                  0.3|           1|         1|         0.0|2016|Manhattan|        SoHo| Yellow Zone|Manhattan|            Flatiron| Yellow Zone|22.88888888888889|      1-5 miles|      Credit Card|Standard rate|  Curb Mobility, LLC|\n",
      "|         234|         234|                 N|            1.0|  0.5|      1.06|        4.0|        6.36|    0.5|         0.35|       2| 2016-01-01 00:19:00|  2016-01-01 00:22:41|                  0.3|           1|         1|         0.0|2016|Manhattan|    Union Sq| Yellow Zone|Manhattan|            Union Sq| Yellow Zone|             26.5|      0-1 miles|      Credit Card|Standard rate|  Curb Mobility, LLC|\n",
      "|          90|          90|                 N|            1.0|  0.5|       0.0|        2.5|         3.8|    0.5|         0.04|       2| 2016-01-01 00:42:25|  2016-01-01 00:42:47|                  0.3|           2|         1|         0.0|2016|Manhattan|    Flatiron| Yellow Zone|Manhattan|            Flatiron| Yellow Zone|              0.0|      0-1 miles|             Cash|Standard rate|  Curb Mobility, LLC|\n",
      "|         158|         125|                 N|            1.0|  0.5|       0.0|        8.5|         9.8|    0.5|          1.5|       1| 2016-01-01 00:51:52|  2016-01-01 01:02:37|                  0.3|           2|         1|         0.0|2016|Manhattan|   Hudson Sq| Yellow Zone|Manhattan|Meatpacking/West ...| Yellow Zone|              0.0|      1-5 miles|             Cash|Standard rate|Creative Mobile T...|\n",
      "+------------+------------+------------------+---------------+-----+----------+-----------+------------+-------+-------------+--------+--------------------+---------------------+---------------------+------------+----------+------------+----+---------+------------+------------+---------+--------------------+------------+-----------------+---------------+-----------------+-------------+--------------------+\n",
      "only showing top 5 rows"
     ]
    }
   ],
   "source": [
    "clean_sample_df.show(5)"
   ]
  },
  {
   "cell_type": "code",
   "execution_count": 33,
   "metadata": {},
   "outputs": [
    {
     "data": {
      "application/vnd.jupyter.widget-view+json": {
       "model_id": "",
       "version_major": 2,
       "version_minor": 0
      },
      "text/plain": [
       "FloatProgress(value=0.0, bar_style='info', description='Progress:', layout=Layout(height='25px', width='50%'),…"
      ]
     },
     "metadata": {},
     "output_type": "display_data"
    }
   ],
   "source": [
    "from pyspark.sql.functions import to_date, date_format\n",
    "\n",
    "# Pickup Date and Time\n",
    "clean_sample_df = clean_sample_df.withColumn(\"pickup_date\", to_date(\"tpep_pickup_datetime\")) \\\n",
    "                                 .withColumn(\"pickup_time\", date_format(\"tpep_pickup_datetime\", \"HH:mm:ss\"))\n",
    "\n",
    "# Dropoff Date and Time\n",
    "clean_sample_df = clean_sample_df.withColumn(\"drop_date\", to_date(\"tpep_dropoff_datetime\")) \\\n",
    "                                 .withColumn(\"drop_time\", date_format(\"tpep_dropoff_datetime\", \"HH:mm:ss\"))"
   ]
  },
  {
   "cell_type": "code",
   "execution_count": 34,
   "metadata": {},
   "outputs": [
    {
     "data": {
      "application/vnd.jupyter.widget-view+json": {
       "model_id": "",
       "version_major": 2,
       "version_minor": 0
      },
      "text/plain": [
       "FloatProgress(value=0.0, bar_style='info', description='Progress:', layout=Layout(height='25px', width='50%'),…"
      ]
     },
     "metadata": {},
     "output_type": "display_data"
    },
    {
     "name": "stdout",
     "output_type": "stream",
     "text": [
      "+------------+------------+------------------+---------------+-----+----------+-----------+------------+-------+-------------+--------+--------------------+---------------------+---------------------+------------+----------+------------+----+---------+------------+------------+---------+--------------------+------------+-----------------+---------------+-----------------+-------------+--------------------+-----------+-----------+----------+---------+\n",
      "|DOLocationID|PULocationID|store_and_fwd_flag|passenger_count|extra|tip_amount|fare_amount|total_amount|mta_tax|trip_distance|VendorID|tpep_pickup_datetime|tpep_dropoff_datetime|improvement_surcharge|payment_type|RatecodeID|tolls_amount|year|  Borough| pickup_zone|service_zone|  Borough|        dropoff_zone|service_zone|   tip_percentage|distance_bucket|payment_type_desc|ratecode_desc|         vendor_desc|pickup_date|pickup_time| drop_date|drop_time|\n",
      "+------------+------------+------------------+---------------+-----+----------+-----------+------------+-------+-------------+--------+--------------------+---------------------+---------------------+------------+----------+------------+----+---------+------------+------------+---------+--------------------+------------+-----------------+---------------+-----------------+-------------+--------------------+-----------+-----------+----------+---------+\n",
      "|          79|          68|                 N|            1.0|  0.5|       0.0|       10.5|        11.8|    0.5|         1.76|       2| 2016-01-01 00:38:14|  2016-01-01 00:52:44|                  0.3|           2|         1|         0.0|2016|Manhattan|East Chelsea| Yellow Zone|Manhattan|        East Village| Yellow Zone|              0.0|      1-5 miles|             Cash|Standard rate|  Curb Mobility, LLC| 2016-01-01|   00:38:14|2016-01-01| 00:52:44|\n",
      "|          90|         211|                 N|            2.0|  0.5|      2.06|        9.0|       12.36|    0.5|          1.8|       2| 2016-01-01 00:16:05|  2016-01-01 00:25:36|                  0.3|           1|         1|         0.0|2016|Manhattan|        SoHo| Yellow Zone|Manhattan|            Flatiron| Yellow Zone|22.88888888888889|      1-5 miles|      Credit Card|Standard rate|  Curb Mobility, LLC| 2016-01-01|   00:16:05|2016-01-01| 00:25:36|\n",
      "|         234|         234|                 N|            1.0|  0.5|      1.06|        4.0|        6.36|    0.5|         0.35|       2| 2016-01-01 00:19:00|  2016-01-01 00:22:41|                  0.3|           1|         1|         0.0|2016|Manhattan|    Union Sq| Yellow Zone|Manhattan|            Union Sq| Yellow Zone|             26.5|      0-1 miles|      Credit Card|Standard rate|  Curb Mobility, LLC| 2016-01-01|   00:19:00|2016-01-01| 00:22:41|\n",
      "|          90|          90|                 N|            1.0|  0.5|       0.0|        2.5|         3.8|    0.5|         0.04|       2| 2016-01-01 00:42:25|  2016-01-01 00:42:47|                  0.3|           2|         1|         0.0|2016|Manhattan|    Flatiron| Yellow Zone|Manhattan|            Flatiron| Yellow Zone|              0.0|      0-1 miles|             Cash|Standard rate|  Curb Mobility, LLC| 2016-01-01|   00:42:25|2016-01-01| 00:42:47|\n",
      "|         158|         125|                 N|            1.0|  0.5|       0.0|        8.5|         9.8|    0.5|          1.5|       1| 2016-01-01 00:51:52|  2016-01-01 01:02:37|                  0.3|           2|         1|         0.0|2016|Manhattan|   Hudson Sq| Yellow Zone|Manhattan|Meatpacking/West ...| Yellow Zone|              0.0|      1-5 miles|             Cash|Standard rate|Creative Mobile T...| 2016-01-01|   00:51:52|2016-01-01| 01:02:37|\n",
      "+------------+------------+------------------+---------------+-----+----------+-----------+------------+-------+-------------+--------+--------------------+---------------------+---------------------+------------+----------+------------+----+---------+------------+------------+---------+--------------------+------------+-----------------+---------------+-----------------+-------------+--------------------+-----------+-----------+----------+---------+\n",
      "only showing top 5 rows"
     ]
    }
   ],
   "source": [
    "clean_sample_df.show(5)"
   ]
  },
  {
   "cell_type": "code",
   "execution_count": 35,
   "metadata": {},
   "outputs": [
    {
     "data": {
      "application/vnd.jupyter.widget-view+json": {
       "model_id": "",
       "version_major": 2,
       "version_minor": 0
      },
      "text/plain": [
       "FloatProgress(value=0.0, bar_style='info', description='Progress:', layout=Layout(height='25px', width='50%'),…"
      ]
     },
     "metadata": {},
     "output_type": "display_data"
    },
    {
     "name": "stdout",
     "output_type": "stream",
     "text": [
      "+--------------------+-----------+-----------+---------------------+----------+---------+\n",
      "|tpep_pickup_datetime|pickup_date|pickup_time|tpep_dropoff_datetime|drop_date |drop_time|\n",
      "+--------------------+-----------+-----------+---------------------+----------+---------+\n",
      "|2016-01-01 00:38:14 |2016-01-01 |00:38:14   |2016-01-01 00:52:44  |2016-01-01|00:52:44 |\n",
      "|2016-01-01 00:16:05 |2016-01-01 |00:16:05   |2016-01-01 00:25:36  |2016-01-01|00:25:36 |\n",
      "|2016-01-01 00:19:00 |2016-01-01 |00:19:00   |2016-01-01 00:22:41  |2016-01-01|00:22:41 |\n",
      "|2016-01-01 00:42:25 |2016-01-01 |00:42:25   |2016-01-01 00:42:47  |2016-01-01|00:42:47 |\n",
      "|2016-01-01 00:51:52 |2016-01-01 |00:51:52   |2016-01-01 01:02:37  |2016-01-01|01:02:37 |\n",
      "+--------------------+-----------+-----------+---------------------+----------+---------+\n",
      "only showing top 5 rows"
     ]
    }
   ],
   "source": [
    "clean_sample_df.select(\"tpep_pickup_datetime\", \"pickup_date\", \"pickup_time\",\n",
    "                       \"tpep_dropoff_datetime\", \"drop_date\", \"drop_time\").show(5, truncate=False)"
   ]
  },
  {
   "cell_type": "code",
   "execution_count": 36,
   "metadata": {},
   "outputs": [
    {
     "data": {
      "application/vnd.jupyter.widget-view+json": {
       "model_id": "",
       "version_major": 2,
       "version_minor": 0
      },
      "text/plain": [
       "FloatProgress(value=0.0, bar_style='info', description='Progress:', layout=Layout(height='25px', width='50%'),…"
      ]
     },
     "metadata": {},
     "output_type": "display_data"
    },
    {
     "name": "stdout",
     "output_type": "stream",
     "text": [
      "root\n",
      " |-- DOLocationID: long (nullable = true)\n",
      " |-- PULocationID: long (nullable = true)\n",
      " |-- store_and_fwd_flag: string (nullable = true)\n",
      " |-- passenger_count: double (nullable = true)\n",
      " |-- extra: double (nullable = true)\n",
      " |-- tip_amount: double (nullable = true)\n",
      " |-- fare_amount: double (nullable = true)\n",
      " |-- total_amount: double (nullable = true)\n",
      " |-- mta_tax: double (nullable = true)\n",
      " |-- trip_distance: double (nullable = true)\n",
      " |-- VendorID: long (nullable = true)\n",
      " |-- tpep_pickup_datetime: timestamp (nullable = true)\n",
      " |-- tpep_dropoff_datetime: timestamp (nullable = true)\n",
      " |-- improvement_surcharge: double (nullable = true)\n",
      " |-- payment_type: long (nullable = true)\n",
      " |-- RatecodeID: integer (nullable = true)\n",
      " |-- tolls_amount: double (nullable = true)\n",
      " |-- year: integer (nullable = true)\n",
      " |-- Borough: string (nullable = true)\n",
      " |-- pickup_zone: string (nullable = true)\n",
      " |-- service_zone: string (nullable = true)\n",
      " |-- Borough: string (nullable = true)\n",
      " |-- dropoff_zone: string (nullable = true)\n",
      " |-- service_zone: string (nullable = true)\n",
      " |-- tip_percentage: double (nullable = true)\n",
      " |-- distance_bucket: string (nullable = false)\n",
      " |-- payment_type_desc: string (nullable = false)\n",
      " |-- ratecode_desc: string (nullable = false)\n",
      " |-- vendor_desc: string (nullable = true)\n",
      " |-- pickup_date: date (nullable = true)\n",
      " |-- pickup_time: string (nullable = true)\n",
      " |-- drop_date: date (nullable = true)\n",
      " |-- drop_time: string (nullable = true)"
     ]
    }
   ],
   "source": [
    "clean_sample_df.printSchema()"
   ]
  },
  {
   "cell_type": "code",
   "execution_count": 37,
   "metadata": {},
   "outputs": [
    {
     "data": {
      "application/vnd.jupyter.widget-view+json": {
       "model_id": "",
       "version_major": 2,
       "version_minor": 0
      },
      "text/plain": [
       "FloatProgress(value=0.0, bar_style='info', description='Progress:', layout=Layout(height='25px', width='50%'),…"
      ]
     },
     "metadata": {},
     "output_type": "display_data"
    },
    {
     "name": "stdout",
     "output_type": "stream",
     "text": [
      "Row count: 991530\n",
      "Column count: 33"
     ]
    }
   ],
   "source": [
    "# Row count\n",
    "row_count = clean_sample_df.count()\n",
    "\n",
    "# Column count\n",
    "column_count = len(clean_sample_df.columns)\n",
    "\n",
    "print(f\"Row count: {row_count}\")\n",
    "print(f\"Column count: {column_count}\")"
   ]
  },
  {
   "cell_type": "code",
   "execution_count": 38,
   "metadata": {},
   "outputs": [
    {
     "data": {
      "application/vnd.jupyter.widget-view+json": {
       "model_id": "",
       "version_major": 2,
       "version_minor": 0
      },
      "text/plain": [
       "FloatProgress(value=0.0, bar_style='info', description='Progress:', layout=Layout(height='25px', width='50%'),…"
      ]
     },
     "metadata": {},
     "output_type": "display_data"
    },
    {
     "name": "stdout",
     "output_type": "stream",
     "text": [
      "+----+\n",
      "|year|\n",
      "+----+\n",
      "|2016|\n",
      "|2017|\n",
      "|2018|\n",
      "|2019|\n",
      "|2020|\n",
      "|2021|\n",
      "|2022|\n",
      "+----+"
     ]
    }
   ],
   "source": [
    "clean_sample_df.select(\"year\").distinct().orderBy(\"year\").show()"
   ]
  },
  {
   "cell_type": "code",
   "execution_count": 40,
   "metadata": {},
   "outputs": [
    {
     "data": {
      "application/vnd.jupyter.widget-view+json": {
       "model_id": "",
       "version_major": 2,
       "version_minor": 0
      },
      "text/plain": [
       "FloatProgress(value=0.0, bar_style='info', description='Progress:', layout=Layout(height='25px', width='50%'),…"
      ]
     },
     "metadata": {},
     "output_type": "display_data"
    },
    {
     "name": "stderr",
     "output_type": "stream",
     "text": [
      "An error was encountered:\n",
      "'Found duplicate column(s) when inserting into s3://nycfinalp/sample-data-with-all-columns: `service_zone`, `borough`;'\n",
      "Traceback (most recent call last):\n",
      "  File \"/usr/lib/spark/python/lib/pyspark.zip/pyspark/sql/readwriter.py\", line 844, in parquet\n",
      "    self._jwrite.parquet(path)\n",
      "  File \"/usr/lib/spark/python/lib/py4j-0.10.7-src.zip/py4j/java_gateway.py\", line 1257, in __call__\n",
      "    answer, self.gateway_client, self.target_id, self.name)\n",
      "  File \"/usr/lib/spark/python/lib/pyspark.zip/pyspark/sql/utils.py\", line 69, in deco\n",
      "    raise AnalysisException(s.split(': ', 1)[1], stackTrace)\n",
      "pyspark.sql.utils.AnalysisException: 'Found duplicate column(s) when inserting into s3://nycfinalp/sample-data-with-all-columns: `service_zone`, `borough`;'\n",
      "\n"
     ]
    }
   ],
   "source": [
    "clean_sample_df.coalesce(1).write.mode(\"overwrite\").parquet(\"s3://nycfinalp/sample-data-with-all-columns/\")"
   ]
  },
  {
   "cell_type": "code",
   "execution_count": 41,
   "metadata": {},
   "outputs": [
    {
     "data": {
      "application/vnd.jupyter.widget-view+json": {
       "model_id": "",
       "version_major": 2,
       "version_minor": 0
      },
      "text/plain": [
       "FloatProgress(value=0.0, bar_style='info', description='Progress:', layout=Layout(height='25px', width='50%'),…"
      ]
     },
     "metadata": {},
     "output_type": "display_data"
    }
   ],
   "source": [
    "# If two columns with same name exist, Spark won’t allow writing.\n",
    "# Drop one of each duplicate manually, based on what you want to keep.\n",
    "\n",
    "clean_sample_df = clean_sample_df.drop(\"service_zone\").drop(\"borough\")"
   ]
  },
  {
   "cell_type": "code",
   "execution_count": 42,
   "metadata": {},
   "outputs": [
    {
     "data": {
      "application/vnd.jupyter.widget-view+json": {
       "model_id": "",
       "version_major": 2,
       "version_minor": 0
      },
      "text/plain": [
       "FloatProgress(value=0.0, bar_style='info', description='Progress:', layout=Layout(height='25px', width='50%'),…"
      ]
     },
     "metadata": {},
     "output_type": "display_data"
    },
    {
     "name": "stdout",
     "output_type": "stream",
     "text": [
      "+------------+------------+------------------+---------------+-----+----------+-----------+------------+-------+-------------+--------+--------------------+---------------------+---------------------+------------+----------+------------+----+------------+--------------------+-----------------+---------------+-----------------+-------------+--------------------+-----------+-----------+----------+---------+\n",
      "|DOLocationID|PULocationID|store_and_fwd_flag|passenger_count|extra|tip_amount|fare_amount|total_amount|mta_tax|trip_distance|VendorID|tpep_pickup_datetime|tpep_dropoff_datetime|improvement_surcharge|payment_type|RatecodeID|tolls_amount|year| pickup_zone|        dropoff_zone|   tip_percentage|distance_bucket|payment_type_desc|ratecode_desc|         vendor_desc|pickup_date|pickup_time| drop_date|drop_time|\n",
      "+------------+------------+------------------+---------------+-----+----------+-----------+------------+-------+-------------+--------+--------------------+---------------------+---------------------+------------+----------+------------+----+------------+--------------------+-----------------+---------------+-----------------+-------------+--------------------+-----------+-----------+----------+---------+\n",
      "|          79|          68|                 N|            1.0|  0.5|       0.0|       10.5|        11.8|    0.5|         1.76|       2| 2016-01-01 00:38:14|  2016-01-01 00:52:44|                  0.3|           2|         1|         0.0|2016|East Chelsea|        East Village|              0.0|      1-5 miles|             Cash|Standard rate|  Curb Mobility, LLC| 2016-01-01|   00:38:14|2016-01-01| 00:52:44|\n",
      "|          90|         211|                 N|            2.0|  0.5|      2.06|        9.0|       12.36|    0.5|          1.8|       2| 2016-01-01 00:16:05|  2016-01-01 00:25:36|                  0.3|           1|         1|         0.0|2016|        SoHo|            Flatiron|22.88888888888889|      1-5 miles|      Credit Card|Standard rate|  Curb Mobility, LLC| 2016-01-01|   00:16:05|2016-01-01| 00:25:36|\n",
      "|         234|         234|                 N|            1.0|  0.5|      1.06|        4.0|        6.36|    0.5|         0.35|       2| 2016-01-01 00:19:00|  2016-01-01 00:22:41|                  0.3|           1|         1|         0.0|2016|    Union Sq|            Union Sq|             26.5|      0-1 miles|      Credit Card|Standard rate|  Curb Mobility, LLC| 2016-01-01|   00:19:00|2016-01-01| 00:22:41|\n",
      "|          90|          90|                 N|            1.0|  0.5|       0.0|        2.5|         3.8|    0.5|         0.04|       2| 2016-01-01 00:42:25|  2016-01-01 00:42:47|                  0.3|           2|         1|         0.0|2016|    Flatiron|            Flatiron|              0.0|      0-1 miles|             Cash|Standard rate|  Curb Mobility, LLC| 2016-01-01|   00:42:25|2016-01-01| 00:42:47|\n",
      "|         158|         125|                 N|            1.0|  0.5|       0.0|        8.5|         9.8|    0.5|          1.5|       1| 2016-01-01 00:51:52|  2016-01-01 01:02:37|                  0.3|           2|         1|         0.0|2016|   Hudson Sq|Meatpacking/West ...|              0.0|      1-5 miles|             Cash|Standard rate|Creative Mobile T...| 2016-01-01|   00:51:52|2016-01-01| 01:02:37|\n",
      "+------------+------------+------------------+---------------+-----+----------+-----------+------------+-------+-------------+--------+--------------------+---------------------+---------------------+------------+----------+------------+----+------------+--------------------+-----------------+---------------+-----------------+-------------+--------------------+-----------+-----------+----------+---------+\n",
      "only showing top 5 rows"
     ]
    }
   ],
   "source": [
    "clean_sample_df.show(5)"
   ]
  },
  {
   "cell_type": "code",
   "execution_count": 43,
   "metadata": {},
   "outputs": [
    {
     "data": {
      "application/vnd.jupyter.widget-view+json": {
       "model_id": "",
       "version_major": 2,
       "version_minor": 0
      },
      "text/plain": [
       "FloatProgress(value=0.0, bar_style='info', description='Progress:', layout=Layout(height='25px', width='50%'),…"
      ]
     },
     "metadata": {},
     "output_type": "display_data"
    }
   ],
   "source": [
    "clean_sample_df.coalesce(1).write.mode(\"overwrite\").parquet(\"s3://nycfinalp/sample-data-with-all-columns/\")"
   ]
  },
  {
   "cell_type": "code",
   "execution_count": 44,
   "metadata": {},
   "outputs": [
    {
     "data": {
      "application/vnd.jupyter.widget-view+json": {
       "model_id": "",
       "version_major": 2,
       "version_minor": 0
      },
      "text/plain": [
       "FloatProgress(value=0.0, bar_style='info', description='Progress:', layout=Layout(height='25px', width='50%'),…"
      ]
     },
     "metadata": {},
     "output_type": "display_data"
    }
   ],
   "source": [
    "clean_sample_df = clean_sample_df.drop(\"tpep_pickup_datetime\", \"tpep_dropoff_datetime\")"
   ]
  },
  {
   "cell_type": "code",
   "execution_count": 45,
   "metadata": {},
   "outputs": [
    {
     "data": {
      "application/vnd.jupyter.widget-view+json": {
       "model_id": "",
       "version_major": 2,
       "version_minor": 0
      },
      "text/plain": [
       "FloatProgress(value=0.0, bar_style='info', description='Progress:', layout=Layout(height='25px', width='50%'),…"
      ]
     },
     "metadata": {},
     "output_type": "display_data"
    },
    {
     "name": "stdout",
     "output_type": "stream",
     "text": [
      "+------------+------------+------------------+---------------+-----+----------+-----------+------------+-------+-------------+--------+---------------------+------------+----------+------------+----+------------+--------------------+-----------------+---------------+-----------------+-------------+--------------------+-----------+-----------+----------+---------+\n",
      "|DOLocationID|PULocationID|store_and_fwd_flag|passenger_count|extra|tip_amount|fare_amount|total_amount|mta_tax|trip_distance|VendorID|improvement_surcharge|payment_type|RatecodeID|tolls_amount|year| pickup_zone|        dropoff_zone|   tip_percentage|distance_bucket|payment_type_desc|ratecode_desc|         vendor_desc|pickup_date|pickup_time| drop_date|drop_time|\n",
      "+------------+------------+------------------+---------------+-----+----------+-----------+------------+-------+-------------+--------+---------------------+------------+----------+------------+----+------------+--------------------+-----------------+---------------+-----------------+-------------+--------------------+-----------+-----------+----------+---------+\n",
      "|          79|          68|                 N|            1.0|  0.5|       0.0|       10.5|        11.8|    0.5|         1.76|       2|                  0.3|           2|         1|         0.0|2016|East Chelsea|        East Village|              0.0|      1-5 miles|             Cash|Standard rate|  Curb Mobility, LLC| 2016-01-01|   00:38:14|2016-01-01| 00:52:44|\n",
      "|          90|         211|                 N|            2.0|  0.5|      2.06|        9.0|       12.36|    0.5|          1.8|       2|                  0.3|           1|         1|         0.0|2016|        SoHo|            Flatiron|22.88888888888889|      1-5 miles|      Credit Card|Standard rate|  Curb Mobility, LLC| 2016-01-01|   00:16:05|2016-01-01| 00:25:36|\n",
      "|         234|         234|                 N|            1.0|  0.5|      1.06|        4.0|        6.36|    0.5|         0.35|       2|                  0.3|           1|         1|         0.0|2016|    Union Sq|            Union Sq|             26.5|      0-1 miles|      Credit Card|Standard rate|  Curb Mobility, LLC| 2016-01-01|   00:19:00|2016-01-01| 00:22:41|\n",
      "|          90|          90|                 N|            1.0|  0.5|       0.0|        2.5|         3.8|    0.5|         0.04|       2|                  0.3|           2|         1|         0.0|2016|    Flatiron|            Flatiron|              0.0|      0-1 miles|             Cash|Standard rate|  Curb Mobility, LLC| 2016-01-01|   00:42:25|2016-01-01| 00:42:47|\n",
      "|         158|         125|                 N|            1.0|  0.5|       0.0|        8.5|         9.8|    0.5|          1.5|       1|                  0.3|           2|         1|         0.0|2016|   Hudson Sq|Meatpacking/West ...|              0.0|      1-5 miles|             Cash|Standard rate|Creative Mobile T...| 2016-01-01|   00:51:52|2016-01-01| 01:02:37|\n",
      "+------------+------------+------------------+---------------+-----+----------+-----------+------------+-------+-------------+--------+---------------------+------------+----------+------------+----+------------+--------------------+-----------------+---------------+-----------------+-------------+--------------------+-----------+-----------+----------+---------+\n",
      "only showing top 5 rows"
     ]
    }
   ],
   "source": [
    "clean_sample_df.show(5)"
   ]
  },
  {
   "cell_type": "code",
   "execution_count": 46,
   "metadata": {},
   "outputs": [
    {
     "data": {
      "application/vnd.jupyter.widget-view+json": {
       "model_id": "",
       "version_major": 2,
       "version_minor": 0
      },
      "text/plain": [
       "FloatProgress(value=0.0, bar_style='info', description='Progress:', layout=Layout(height='25px', width='50%'),…"
      ]
     },
     "metadata": {},
     "output_type": "display_data"
    },
    {
     "name": "stdout",
     "output_type": "stream",
     "text": [
      "root\n",
      " |-- DOLocationID: long (nullable = true)\n",
      " |-- PULocationID: long (nullable = true)\n",
      " |-- store_and_fwd_flag: string (nullable = true)\n",
      " |-- passenger_count: double (nullable = true)\n",
      " |-- extra: double (nullable = true)\n",
      " |-- tip_amount: double (nullable = true)\n",
      " |-- fare_amount: double (nullable = true)\n",
      " |-- total_amount: double (nullable = true)\n",
      " |-- mta_tax: double (nullable = true)\n",
      " |-- trip_distance: double (nullable = true)\n",
      " |-- VendorID: long (nullable = true)\n",
      " |-- improvement_surcharge: double (nullable = true)\n",
      " |-- payment_type: long (nullable = true)\n",
      " |-- RatecodeID: integer (nullable = true)\n",
      " |-- tolls_amount: double (nullable = true)\n",
      " |-- year: integer (nullable = true)\n",
      " |-- pickup_zone: string (nullable = true)\n",
      " |-- dropoff_zone: string (nullable = true)\n",
      " |-- tip_percentage: double (nullable = true)\n",
      " |-- distance_bucket: string (nullable = false)\n",
      " |-- payment_type_desc: string (nullable = false)\n",
      " |-- ratecode_desc: string (nullable = false)\n",
      " |-- vendor_desc: string (nullable = true)\n",
      " |-- pickup_date: date (nullable = true)\n",
      " |-- pickup_time: string (nullable = true)\n",
      " |-- drop_date: date (nullable = true)\n",
      " |-- drop_time: string (nullable = true)"
     ]
    }
   ],
   "source": [
    "clean_sample_df.printSchema()"
   ]
  },
  {
   "cell_type": "code",
   "execution_count": 47,
   "metadata": {},
   "outputs": [
    {
     "data": {
      "application/vnd.jupyter.widget-view+json": {
       "model_id": "",
       "version_major": 2,
       "version_minor": 0
      },
      "text/plain": [
       "FloatProgress(value=0.0, bar_style='info', description='Progress:', layout=Layout(height='25px', width='50%'),…"
      ]
     },
     "metadata": {},
     "output_type": "display_data"
    },
    {
     "name": "stdout",
     "output_type": "stream",
     "text": [
      "Row count: 991530\n",
      "Column count: 27"
     ]
    }
   ],
   "source": [
    "# Row count\n",
    "row_count = clean_sample_df.count()\n",
    "\n",
    "# Column count\n",
    "column_count = len(clean_sample_df.columns)\n",
    "\n",
    "print(f\"Row count: {row_count}\")\n",
    "print(f\"Column count: {column_count}\")"
   ]
  },
  {
   "cell_type": "code",
   "execution_count": 48,
   "metadata": {},
   "outputs": [
    {
     "data": {
      "application/vnd.jupyter.widget-view+json": {
       "model_id": "",
       "version_major": 2,
       "version_minor": 0
      },
      "text/plain": [
       "FloatProgress(value=0.0, bar_style='info', description='Progress:', layout=Layout(height='25px', width='50%'),…"
      ]
     },
     "metadata": {},
     "output_type": "display_data"
    }
   ],
   "source": [
    "clean_sample_df.coalesce(1).write.mode(\"overwrite\").parquet(\"s3://nycfinalp/sample-data-final/\")"
   ]
  },
  {
   "cell_type": "code",
   "execution_count": null,
   "metadata": {},
   "outputs": [],
   "source": []
  }
 ],
 "metadata": {
  "kernelspec": {
   "display_name": "PySpark",
   "language": "",
   "name": "pysparkkernel"
  },
  "language_info": {
   "codemirror_mode": {
    "name": "python",
    "version": 3
   },
   "mimetype": "text/x-python",
   "name": "pyspark",
   "pygments_lexer": "python3"
  }
 },
 "nbformat": 4,
 "nbformat_minor": 4
}
